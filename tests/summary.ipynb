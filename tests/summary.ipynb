{
 "cells": [
  {
   "cell_type": "markdown",
   "metadata": {},
   "source": [
    "# Summary\n",
    "Here is a summary of some of the work that has been conducted for the paper [ \"Analysis of roll damping_model scale data\"](https://github.com/martinlarsalbert/A-semi-empirical-method-for-predicting-roll-damping-based-on-machine-learning). This is mainly for [Martin](https://martinlarsalbert.github.io/blog/about/) to remember, but it is of course open for anyonw to have a look. The data used in this project is unfortunatelly not available in this repo, due to IP-rights and the stored notebooks have consequently no output saved.\n"
   ]
  },
  {
   "cell_type": "markdown",
   "metadata": {},
   "source": [
    "## Paper material\n",
    "* Many of the governig equations have been defined using [SymPy](https://www.sympy.org/) in :[00.1_maa_equation.ipynb](rolldecay/02_roll_damping_DB/00.1_maa_equation.ipynb).\n",
    "* Building the roll damping database was done with [04.2_maa_mdl_db_build.ipynb](rolldecay/02_roll_damping_DB/04.2_maa_mdl_db_build.ipynb)\n",
    "* **Figure 2**: *Number of tests per ship type*: [01.2_maa_ship_selection.ipynb](05_new_method/01.2_maa_ship_selection.ipynb)\n",
    "* **Figure 3**: *Roll decay model test, linear-, quadratic- and cubic-model*: [01.1_maa_mdl_db_damping_classification.ipynb](03_roll_damping_classification/01.1_maa_mdl_db_damping_classification.ipynb)\n",
    "* **Figure 4**: *Root mean square error of roll damping prediction between the SI-method and the modeltest results* : [07.1_maa_simplified_ikeda_compare.ipynb](04_simplified_ikeda/07.1_maa_simplified_ikeda_compare.ipynb)\n",
    "* **Table 1**: *Validation of SI within and outside limits* : [10.2_si_limits.ipyn](04_simplified_ikeda/10.2_si_limits.ipynb)\n",
    "* **Figure 5**: *SI-method with and outside limits vs. model tests*: [10.2_si_limits.ipynb](04_simplified_ikeda/10.2_si_limits.ipynb)\n",
    "* **Figure 6**: *SI-method input parameter variation and data base ships* : [07.3_si_sensitivity2.ipynb](04_simplified_ikeda/07.3_si_sensitivity2.ipynb)\n",
    "* **Figure 7**: *Comparison of SI, Ikeda and model tests* : [07.3_si_sensitivity2.ipynb](04_simplified_ikeda/07.3_si_sensitivity2.ipynb)\n",
    "* **Table 2**: *Validation of SI and Ikeda* : [07.3_si_sensitivity2.ipynb](04_simplified_ikeda/07.3_si_sensitivity2.ipynb)\n",
    "* **Table 3**: *Statistics from cross validations with all models* : [05.1_maa_new_method_and_correction.ipynb](05.1_maa_new_method_and_correction.ipynb)"
   ]
  },
  {
   "cell_type": "markdown",
   "metadata": {},
   "source": [
    "## Studies\n",
    "Studies conducted, where no specific material made it to the paper.\n",
    "* [00.5_maa_linear_damping_analytical_solution.ipynb](02_roll_damping_DB/00.5_maa_linear_damping_analytical_solution.ipynb)\n",
    "* [05.1_model_test_sensitivity.ipynb](02_roll_damping_DB/05.1_model_test_sensitivity.ipynb)\n",
    "* Exploring the equivalent damping equation $B_e$ in: [08.1_Be_equation.ipynb](04_simplified_ikeda/08.1_Be_equation.ipynb) (This one could need more attention)\n",
    "* Regression: [05.1_maa_new_method_and_correction.ipynb](05_new_method/05.1_maa_new_method_and_correction.ipynb)\n",
    "* Original Ikeda method for S175 ship: [01.02_ikeda_S175.ipynb](rolldecay/06_ikeda/01.02_ikeda_S175.ipynb)\n",
    "* Strip theory calculations were done with [ScoresII](https://github.com/martinlarsalbert/pyscores2)\n"
   ]
  },
  {
   "cell_type": "markdown",
   "metadata": {},
   "source": [
    "## Logbook\n",
    "During the later part of this project I started to write a [logbook.ipynb](notebooks/rolldecay/logbook.ipynb) each day about the latest findings."
   ]
  }
 ],
 "metadata": {
  "kernelspec": {
   "display_name": "Python 3",
   "language": "python",
   "name": "python3"
  },
  "language_info": {
   "codemirror_mode": {
    "name": "ipython",
    "version": 3
   },
   "file_extension": ".py",
   "mimetype": "text/x-python",
   "name": "python",
   "nbconvert_exporter": "python",
   "pygments_lexer": "ipython3",
   "version": "3.5.4"
  }
 },
 "nbformat": 4,
 "nbformat_minor": 4
}
